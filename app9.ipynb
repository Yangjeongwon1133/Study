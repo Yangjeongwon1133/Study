{
 "cells": [
  {
   "cell_type": "code",
   "execution_count": 21,
   "id": "2740bd8a",
   "metadata": {},
   "outputs": [
    {
     "name": "stdout",
     "output_type": "stream",
     "text": [
      "XXOXX\n",
      "XOOOX\n",
      "OOOOO\n",
      "XOOOX\n",
      "XXOXX\n"
     ]
    }
   ],
   "source": [
    "a = 'X'\n",
    "b = \"O\"\n",
    "for y in range(5):\n",
    "    조합 = ''\n",
    "    for x in range(5):\n",
    "        #문자가 조합되는 코드 작성\n",
    "        if (y == 0 or y == 4) and x == 2:\n",
    "            조합 += b\n",
    "        elif (y == 1 or y == 3) and (x == 1 or x == 2 or x == 3) :\n",
    "            조합 += b\n",
    "        elif y == 2:\n",
    "            조합 += b\n",
    "        else:\n",
    "            조합 += a\n",
    "    #조합 된 문자 \n",
    "    print(조합)"
   ]
  },
  {
   "cell_type": "code",
   "execution_count": 39,
   "id": "e8d7a089",
   "metadata": {},
   "outputs": [
    {
     "name": "stdout",
     "output_type": "stream",
     "text": [
      "OXXXXXXXXO\n",
      "XOXXXXXXOX\n",
      "XXOXXXXOXX\n",
      "XXXOXXOXXX\n",
      "XXXXOOXXXX\n",
      "XXXXOOXXXX\n",
      "XXXOXXOXXX\n",
      "XXOXXXXOXX\n",
      "XOXXXXXXOX\n",
      "OXXXXXXXXO\n"
     ]
    }
   ],
   "source": [
    "a = 'X'\n",
    "b = \"O\"\n",
    "for y in range(10):\n",
    "    조합 = ''\n",
    "    for x in range(10):\n",
    "        #문자가 조합되는 코드 작성\n",
    "        if (y == 0 or y == 9) and (x == 0 or x == 9):\n",
    "            조합 += b\n",
    "        elif (y == 1 or y == 8) and (x == 1 or x == 8):\n",
    "            조합 += b\n",
    "        elif (y == 2 or y == 7) and (x == 2 or x == 7):\n",
    "            조합 += b\n",
    "        elif (y == 3 or y == 6) and (x == 3 or x == 6):\n",
    "            조합 += b\n",
    "        elif (y == 4 or y == 5) and (x == 4 or x == 5):\n",
    "            조합 += b\n",
    "        else:\n",
    "            조합 += a\n",
    "    #조합 된 문자 \n",
    "    print(조합)"
   ]
  },
  {
   "cell_type": "code",
   "execution_count": null,
   "id": "97748a85",
   "metadata": {},
   "outputs": [
    {
     "name": "stdout",
     "output_type": "stream",
     "text": [
      "OXXXXXXXXO\n",
      "XOXXXXXXOX\n",
      "XXOXXXXOXX\n",
      "XXXOXXOXXX\n",
      "XXXXOOXXXX\n",
      "XXXXOOXXXX\n",
      "XXXOXXOXXX\n",
      "XXOXXXXOXX\n",
      "XOXXXXXXOX\n",
      "OXXXXXXXXO\n"
     ]
    }
   ],
   "source": [
    "a = 'X'\n",
    "b = 'O'\n",
    "\n",
    "for y in range(10):\n",
    "    조합 = []\n",
    "    for x in range(10):\n",
    "        if x == y or x + y == 9:\n",
    "            조합.append(b)\n",
    "        else:\n",
    "            조합.append(a)\n",
    "    print(''.join(조합))\n"
   ]
  },
  {
   "cell_type": "code",
   "execution_count": 51,
   "id": "cfc44867",
   "metadata": {},
   "outputs": [
    {
     "name": "stdout",
     "output_type": "stream",
     "text": [
      "OXXXXXXXXO\n",
      "XOXXXXXXOX\n",
      "XXOXXXXOXX\n",
      "XXXOXXOXXX\n",
      "XXXXOOXXXX\n",
      "XXXXOOXXXX\n",
      "XXXOXXOXXX\n",
      "XXOXXXXOXX\n",
      "XOXXXXXXOX\n",
      "OXXXXXXXXO\n"
     ]
    }
   ],
   "source": [
    "a = 'X'\n",
    "b = 'O'\n",
    "for y in range(10):\n",
    "    조합 = ''\n",
    "    for x in range(10):\n",
    "        if x == y or x + y == 9:\n",
    "            조합 += b\n",
    "        else:\n",
    "            조합 += a\n",
    "\n",
    "    print(조합)"
   ]
  },
  {
   "cell_type": "code",
   "execution_count": 52,
   "id": "7dc8c959",
   "metadata": {},
   "outputs": [
    {
     "name": "stdout",
     "output_type": "stream",
     "text": [
      "OXXXXXXXXO\n",
      "XOXXXXXXOX\n",
      "XXOXXXXOXX\n",
      "XXXOXXOXXX\n",
      "XXXXOOXXXX\n",
      "XXXXOOXXXX\n",
      "XXXOXXOXXX\n",
      "XXOXXXXOXX\n",
      "XOXXXXXXOX\n",
      "OXXXXXXXXO\n"
     ]
    }
   ],
   "source": [
    "\n",
    "a = \"O\"\n",
    "b = \"X\"\n",
    "for y in range(10):\n",
    "    행 = ''\n",
    "    for x in range(10):\n",
    "        if y == x or (9 - y) == x:\n",
    "            행 += a\n",
    "        else:\n",
    "            행 += b\n",
    "    print(행)"
   ]
  },
  {
   "cell_type": "code",
   "execution_count": 22,
   "id": "f71fc9b7",
   "metadata": {},
   "outputs": [
    {
     "name": "stdout",
     "output_type": "stream",
     "text": [
      "OXXXX\n",
      "OOXXX\n",
      "OOOXX\n",
      "OOOOX\n",
      "OOOOO\n"
     ]
    }
   ],
   "source": [
    "#문제 1\n",
    "\n",
    "a = 'X'\n",
    "b = \"O\"\n",
    "for y in range(5):\n",
    "    조합 = ''\n",
    "    for x in range(5):\n",
    "        if y == 4:\n",
    "            조합 += b\n",
    "        elif (y == 0) and (x == 0):\n",
    "            조합 += b\n",
    "        elif (y == 1) and (x == 0 or x == 1):\n",
    "            조합 += b\n",
    "        elif (y == 2) and (x == 0 or x == 1 or x == 2):\n",
    "            조합 += b\n",
    "        elif (y == 3) and (x == 0 or x == 1 or x == 2 or x == 3):\n",
    "            조합 += b\n",
    "        elif (y == 4) and (x == 0 or x == 1 or x == 2 or x == 3 or x == 4):\n",
    "            조합 += b\n",
    "        else:\n",
    "            조합 += a\n",
    "    #조합 된 문자 \n",
    "    print(조합)"
   ]
  },
  {
   "cell_type": "code",
   "execution_count": null,
   "id": "bcb3813f",
   "metadata": {},
   "outputs": [
    {
     "name": "stdout",
     "output_type": "stream",
     "text": [
      "OOOOO\n",
      "XXXXX\n",
      "XXXXX\n",
      "XXXXX\n",
      "XXXXX\n"
     ]
    }
   ],
   "source": [
    "#문제 2\n",
    "\n",
    "a = 'X'\n",
    "b = \"O\"\n",
    "for y in range(5):\n",
    "    조합 = ''\n",
    "    for x in range(5):\n",
    "        if y == 0:\n",
    "            조합 += b\n",
    "        else:\n",
    "            조합 += a\n",
    "    #조합 된 문자 \n",
    "    print(조합)"
   ]
  },
  {
   "cell_type": "code",
   "execution_count": 26,
   "id": "41d1a980",
   "metadata": {},
   "outputs": [
    {
     "name": "stdout",
     "output_type": "stream",
     "text": [
      "OXXXX\n",
      "OOXXX\n",
      "OOOXX\n",
      "OOOOX\n",
      "OOOOO\n"
     ]
    }
   ],
   "source": [
    "for y in range(5):\n",
    "    행 = ''\n",
    "    for x in range(5):\n",
    "        행 += 'O' if x < (y + 1) else 'X'\n",
    "    print(행)"
   ]
  },
  {
   "cell_type": "code",
   "execution_count": 27,
   "id": "743e9828",
   "metadata": {},
   "outputs": [
    {
     "name": "stdout",
     "output_type": "stream",
     "text": [
      "OOOOO\n",
      "OOOOX\n",
      "OOOXX\n",
      "OOXXX\n",
      "OXXXX\n"
     ]
    }
   ],
   "source": [
    "for y in range(5):\n",
    "    행 = ''\n",
    "    for x in range(5):\n",
    "        행 += 'O' if x <= (4 - y) else 'X'\n",
    "    print(행)"
   ]
  },
  {
   "cell_type": "code",
   "execution_count": 28,
   "id": "915dfcc8",
   "metadata": {},
   "outputs": [
    {
     "name": "stdout",
     "output_type": "stream",
     "text": [
      "XXXXO\n",
      "XXXOO\n",
      "XXOOO\n",
      "XOOOO\n",
      "OOOOO\n"
     ]
    }
   ],
   "source": [
    "for y in range(5):\n",
    "    행 = ''\n",
    "    for x in range(5):\n",
    "        행 += 'O' if x >= (4 - y) else 'X'\n",
    "    print(행)"
   ]
  },
  {
   "cell_type": "code",
   "execution_count": 29,
   "id": "85b31a78",
   "metadata": {},
   "outputs": [
    {
     "name": "stdout",
     "output_type": "stream",
     "text": [
      "OOOOO\n",
      "XOOOO\n",
      "XXOOO\n",
      "XXXOO\n",
      "XXXXO\n"
     ]
    }
   ],
   "source": [
    "for y in range(5):\n",
    "    행 = ''\n",
    "    for x in range(5):\n",
    "        행 += 'O' if x > (y - 1) else 'X'\n",
    "    print(행)"
   ]
  },
  {
   "cell_type": "code",
   "execution_count": 41,
   "id": "df16e337",
   "metadata": {},
   "outputs": [
    {
     "name": "stdout",
     "output_type": "stream",
     "text": [
      "XXXXOXXXX\n",
      "XXXOOOXXX\n",
      "XXOOOOOXX\n",
      "XOOOOOOOX\n",
      "OOOOOOOOO\n",
      "XOOOOOOOX\n",
      "XXOOOOOXX\n",
      "XXXOOOXXX\n",
      "XXXXOXXXX\n"
     ]
    }
   ],
   "source": [
    "for y in range(9):\n",
    "    행 = ''\n",
    "    for x in range(9):\n",
    "        if y == 4:\n",
    "            행 += 'O'\n",
    "        elif (y == 0 or y ==8) and x == 4:\n",
    "            행 += 'O'\n",
    "        elif y == 0 and x == 4:\n",
    "            행 += 'O'\n",
    "        elif (y == 1 or y == 7) and (3 <= x <= 5):\n",
    "            행 += 'O'\n",
    "        elif (y == 2 or y == 6) and (2 <= x <= 6):\n",
    "            행 += 'O'\n",
    "        elif (y == 3 or y == 5) and (1 <= x <= 7):\n",
    "            행 += 'O'\n",
    "    \n",
    "        else:\n",
    "            행 += 'X'\n",
    "    print(행)"
   ]
  }
 ],
 "metadata": {
  "kernelspec": {
   "display_name": "Python 3",
   "language": "python",
   "name": "python3"
  },
  "language_info": {
   "codemirror_mode": {
    "name": "ipython",
    "version": 3
   },
   "file_extension": ".py",
   "mimetype": "text/x-python",
   "name": "python",
   "nbconvert_exporter": "python",
   "pygments_lexer": "ipython3",
   "version": "3.13.5"
  }
 },
 "nbformat": 4,
 "nbformat_minor": 5
}
