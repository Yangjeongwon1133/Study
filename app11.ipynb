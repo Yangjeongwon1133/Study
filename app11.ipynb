{
 "cells": [
  {
   "cell_type": "code",
   "execution_count": 4,
   "id": "2ff9bfef",
   "metadata": {},
   "outputs": [
    {
     "name": "stdout",
     "output_type": "stream",
     "text": [
      "<class 'dict'>\n"
     ]
    }
   ],
   "source": [
    "데이터 = {\"k1\": \"값1\"}\n",
    "print(type(데이터))"
   ]
  },
  {
   "cell_type": "code",
   "execution_count": 5,
   "id": "e89db003",
   "metadata": {},
   "outputs": [
    {
     "name": "stdout",
     "output_type": "stream",
     "text": [
      "값1\n"
     ]
    }
   ],
   "source": [
    "print(데이터[\"k1\"])"
   ]
  },
  {
   "cell_type": "code",
   "execution_count": 6,
   "id": "28957490",
   "metadata": {},
   "outputs": [
    {
     "name": "stdout",
     "output_type": "stream",
     "text": [
      "{'k1': 10}\n"
     ]
    }
   ],
   "source": [
    "데이터[\"k1\"] = 10\n",
    "print(데이터)"
   ]
  },
  {
   "cell_type": "code",
   "execution_count": 7,
   "id": "4a8e7077",
   "metadata": {},
   "outputs": [
    {
     "name": "stdout",
     "output_type": "stream",
     "text": [
      "{'k1': 10, 2: 100}\n"
     ]
    }
   ],
   "source": [
    "데이터[2] = 100\n",
    "print(데이터)"
   ]
  },
  {
   "cell_type": "code",
   "execution_count": 8,
   "id": "b43a9676",
   "metadata": {},
   "outputs": [
    {
     "name": "stdout",
     "output_type": "stream",
     "text": [
      "{'k1': 10, 2: 100, 'k3': [], 'k4': ()}\n"
     ]
    }
   ],
   "source": [
    "데이터[\"k3\"] = []\n",
    "데이터[\"k4\"] = ()\n",
    "print(데이터)"
   ]
  },
  {
   "cell_type": "code",
   "execution_count": null,
   "id": "78798c6e",
   "metadata": {},
   "outputs": [],
   "source": [
    "데이터[True] = 1\n",
    "print(데이터)"
   ]
  },
  {
   "cell_type": "code",
   "execution_count": 9,
   "id": "0e378c75",
   "metadata": {},
   "outputs": [
    {
     "name": "stdout",
     "output_type": "stream",
     "text": [
      "10\n",
      "100\n",
      "[]\n",
      "()\n"
     ]
    }
   ],
   "source": [
    "for i in 데이터:\n",
    "    print(데이터[i])"
   ]
  },
  {
   "cell_type": "code",
   "execution_count": null,
   "id": "817fa437",
   "metadata": {},
   "outputs": [
    {
     "name": "stdout",
     "output_type": "stream",
     "text": [
      "<class 'dict_values'>\n"
     ]
    }
   ],
   "source": [
    "print(type(데이터.values()))"
   ]
  },
  {
   "cell_type": "code",
   "execution_count": 11,
   "id": "959b0aa2",
   "metadata": {},
   "outputs": [
    {
     "name": "stdout",
     "output_type": "stream",
     "text": [
      "{}\n"
     ]
    }
   ],
   "source": [
    "데이터.clear()\n",
    "print(데이터)"
   ]
  },
  {
   "cell_type": "code",
   "execution_count": 12,
   "id": "bbaac3fc",
   "metadata": {},
   "outputs": [
    {
     "name": "stdout",
     "output_type": "stream",
     "text": [
      "사용자의 이름과 나이를 입력 받아 출력하기\n",
      "[{'name': '홍길동', 'age': '3'}, {'name': '홍길동', 'age': '3'}]\n",
      "홍길동는 3살 입니다.\n",
      "홍길동는 3살 입니다.\n",
      "홍길동는 3살 입니다.\n",
      "홍길동는 3살 입니다.\n"
     ]
    }
   ],
   "source": [
    "print(\"사용자의 이름과 나이를 입력 받아 출력하기\")\n",
    "사용자목록 = []\n",
    "\n",
    "while True:\n",
    "    사용자 = {}\n",
    "    name = input(\"당신의 이름을 입력해주세요.\")\n",
    "    if name == '':\n",
    "        break\n",
    "    사용자['name'] = name\n",
    "\n",
    "    age = input(\"당신의 나이를 입력해주세요.\")\n",
    "    사용자['age'] = age\n",
    "\n",
    "    사용자목록.append(사용자)\n",
    "\n",
    "print(사용자목록)\n",
    "\n",
    "while True:\n",
    "    선택 = input(\"찾으실 사용자 이름을 입력하세요\")\n",
    "    if 선택 == '':\n",
    "        break\n",
    "    for r in 사용자목록:\n",
    "        if 선택 == r['name']:\n",
    "            print(f'{r['name']}는 {r['age']}살 입니다.')"
   ]
  },
  {
   "cell_type": "code",
   "execution_count": 15,
   "id": "fe695303",
   "metadata": {},
   "outputs": [],
   "source": [
    "def 더하기(a, b):\n",
    "    return a + b\n",
    "\n",
    "결과 = 더하기(20,10)"
   ]
  },
  {
   "cell_type": "code",
   "execution_count": null,
   "id": "2af12c48",
   "metadata": {},
   "outputs": [
    {
     "name": "stdout",
     "output_type": "stream",
     "text": [
      "30\n"
     ]
    }
   ],
   "source": [
    "print(결과)"
   ]
  },
  {
   "cell_type": "code",
   "execution_count": null,
   "id": "4cc588eb",
   "metadata": {},
   "outputs": [
    {
     "name": "stdout",
     "output_type": "stream",
     "text": [
      "계산기입니다\n",
      "6\n"
     ]
    }
   ],
   "source": [
    "print(\"계산기입니다\")\n",
    "\n",
    "value1 = int(input(\"첫번째 숫자를 입력하세요.\"))\n",
    "symbol = input(\"연산 기호를 입력하세요.\")\n",
    "value2 = int(input(\"두번째 숫자를 입력하세요.\"))\n",
    "\n",
    "결과 = 0\n",
    "\n",
    "def 더하기(a, b):\n",
    "    return a + b\n",
    "\n",
    "def 빼기(a, b):\n",
    "    return a - b\n",
    "\n",
    "def 곱하기(a, b):\n",
    "    return a * b\n",
    "\n",
    "def 나누기(a, b):\n",
    "    return a / b\n",
    "\n",
    "if symbol == \"+\":\n",
    "    결과 = 더하기(value1, value2)\n",
    "    \n",
    "elif symbol == \"-\":\n",
    "    결과 = 빼기(value1, value2)\n",
    "    \n",
    "elif symbol == \"*\":\n",
    "    결과 = 곱하기(value1, value2)\n",
    "\n",
    "elif symbol == \"/\":\n",
    "    결과 = 나누기(value1, value2)\n",
    "    \n",
    "print(결과)"
   ]
  },
  {
   "cell_type": "code",
   "execution_count": 1,
   "id": "e90e7f8a",
   "metadata": {},
   "outputs": [
    {
     "ename": "NameError",
     "evalue": "name 'f1' is not defined",
     "output_type": "error",
     "traceback": [
      "\u001b[31m---------------------------------------------------------------------------\u001b[39m",
      "\u001b[31mNameError\u001b[39m                                 Traceback (most recent call last)",
      "\u001b[36mCell\u001b[39m\u001b[36m \u001b[39m\u001b[32mIn[1]\u001b[39m\u001b[32m, line 7\u001b[39m\n\u001b[32m      4\u001b[39m b = \u001b[38;5;28minput\u001b[39m(\u001b[33m\"\u001b[39m\u001b[33m두번째 숫자\u001b[39m\u001b[33m\"\u001b[39m)\n\u001b[32m      6\u001b[39m \u001b[38;5;28;01mif\u001b[39;00m s == \u001b[33m\"\u001b[39m\u001b[33m+\u001b[39m\u001b[33m\"\u001b[39m:\n\u001b[32m----> \u001b[39m\u001b[32m7\u001b[39m     \u001b[38;5;28mprint\u001b[39m(\u001b[43mf1\u001b[49m(a, b))\n\u001b[32m      8\u001b[39m \u001b[38;5;28;01melif\u001b[39;00m s == \u001b[33m\"\u001b[39m\u001b[33m-\u001b[39m\u001b[33m\"\u001b[39m:\n\u001b[32m      9\u001b[39m     \u001b[38;5;28mprint\u001b[39m(f2(a, b))\n",
      "\u001b[31mNameError\u001b[39m: name 'f1' is not defined"
     ]
    }
   ],
   "source": [
    "while True:\n",
    "    a = input(\"첫번째 숫자\")\n",
    "    s = input(\"연산 기호를 입력하세요.\")\n",
    "    b = input(\"두번째 숫자\")\n",
    "    \n",
    "    if s == \"+\":\n",
    "        print(f1(a, b))\n",
    "    elif s == \"-\":\n",
    "        print(f2(a, b))\n",
    "    elif s == \"*\":\n",
    "        print(f3(a, b))\n",
    "    elif s == \"/\":\n",
    "        print(f4(a, b))\n",
    "    else:\n",
    "        break"
   ]
  },
  {
   "cell_type": "code",
   "execution_count": 3,
   "id": "4edef56b",
   "metadata": {},
   "outputs": [
    {
     "name": "stdout",
     "output_type": "stream",
     "text": [
      "1 1\n",
      "1\n"
     ]
    }
   ],
   "source": [
    "전역변수 = 1\n",
    "\n",
    "def 함수(지역변수):\n",
    "    print(전역변수, 지역변수)\n",
    "    \n",
    "함수(전역변수)\n",
    "print(전역변수)    "
   ]
  },
  {
   "cell_type": "code",
   "execution_count": 6,
   "id": "95def32f",
   "metadata": {},
   "outputs": [
    {
     "name": "stdout",
     "output_type": "stream",
     "text": [
      "2 1\n",
      "3\n"
     ]
    }
   ],
   "source": [
    "a = 1\n",
    "b = 2\n",
    "def 더하기(a, b):\n",
    "    print(a, b)\n",
    "    return a + b\n",
    "\n",
    "print(더하기(b, a))"
   ]
  },
  {
   "cell_type": "code",
   "execution_count": 12,
   "id": "c1205a4c",
   "metadata": {},
   "outputs": [
    {
     "name": "stdout",
     "output_type": "stream",
     "text": [
      "75.3\n"
     ]
    }
   ],
   "source": [
    "arr1 = [80,76,63,83,99,87,100,42,68,55]\n",
    "\n",
    "def 평균값(list):\n",
    "    \n",
    "    합 = 0\n",
    "    갯수 = 0\n",
    "    for i in list:\n",
    "        합 += i\n",
    "        갯수 += 1\n",
    "    return 합 / 갯수\n",
    "\n",
    "print(평균값(arr1))\n",
    "\n",
    "\n",
    "    "
   ]
  },
  {
   "cell_type": "code",
   "execution_count": 13,
   "id": "81fa29b8",
   "metadata": {},
   "outputs": [
    {
     "name": "stdout",
     "output_type": "stream",
     "text": [
      "75.3\n"
     ]
    }
   ],
   "source": [
    "arr1 = [80,76,63,83,99,87,100,42,68,55]\n",
    "\n",
    "def 평균값(list):\n",
    "    return sum(list) / len(list)\n",
    "\n",
    "print(평균값(arr1))"
   ]
  },
  {
   "cell_type": "code",
   "execution_count": 18,
   "id": "fa7222eb",
   "metadata": {},
   "outputs": [
    {
     "name": "stdout",
     "output_type": "stream",
     "text": [
      "82.0\n"
     ]
    }
   ],
   "source": [
    "arr2 = [\n",
    "    [\"홍길동\", 80],\n",
    "    [\"류관순\", 76],\n",
    "    [\"강감찬\", 99],\n",
    "    [\"이성계\", 87],\n",
    "    [\"이황\", 68]\n",
    "]\n",
    "\n",
    "def 점수확인(list):\n",
    "    합 = 0\n",
    "    갯수 = 0\n",
    "    for i in list:\n",
    "        합 += i[1]\n",
    "        갯수 += 1\n",
    "    return 합 / 갯수\n",
    "\n",
    "print(점수확인(arr2))"
   ]
  },
  {
   "cell_type": "code",
   "execution_count": 46,
   "id": "798824d8",
   "metadata": {},
   "outputs": [
    {
     "name": "stdout",
     "output_type": "stream",
     "text": [
      "강감찬\n"
     ]
    }
   ],
   "source": [
    "arr2 = [\n",
    "    [\"홍길동\", 80],\n",
    "    [\"류관순\", 76],\n",
    "    [\"강감찬\", 99],\n",
    "    [\"이성계\", 87],\n",
    "    [\"이황\", 68]\n",
    "]\n",
    "\n",
    "def 최고이름(list):\n",
    "    최고점수 = 0\n",
    "    최고이름 = \"\"\n",
    "    for i in list:\n",
    "        if i[1] > 최고점수:\n",
    "            최고점수 = i[1]\n",
    "            최고이름 = i[0]\n",
    "    return 최고이름\n",
    "\n",
    "print(최고이름(arr2))"
   ]
  },
  {
   "cell_type": "code",
   "execution_count": 39,
   "id": "e8a9080e",
   "metadata": {},
   "outputs": [
    {
     "name": "stdout",
     "output_type": "stream",
     "text": [
      "평균 점수: 82.0\n",
      "평균 이상인 사람들: ['강감찬', '이성계']\n"
     ]
    }
   ],
   "source": [
    "arr3 = [\n",
    "    [\"홍길동\", 80],\n",
    "    [\"류관순\", 76],\n",
    "    [\"강감찬\", 99],\n",
    "    [\"이성계\", 87],\n",
    "    [\"이황\", 68]\n",
    "]\n",
    "\n",
    "def 평균이상_사람들찾기(data):\n",
    "    점수들 = [person[1] for person in data]\n",
    "    평균 = sum(점수들) / len(점수들)\n",
    "\n",
    "    평균이상 = [person[0] for person in data if person[1] >= 평균]\n",
    "\n",
    "    return 평균, 평균이상\n",
    "\n",
    "평균, 사람들 = 평균이상_사람들찾기(arr3)\n",
    "print(\"평균 점수:\", 평균)\n",
    "print(\"평균 이상인 사람들:\", 사람들)"
   ]
  },
  {
   "cell_type": "code",
   "execution_count": 43,
   "id": "596e0d07",
   "metadata": {},
   "outputs": [
    {
     "name": "stdout",
     "output_type": "stream",
     "text": [
      "홀수 리스트 [5, 15, 35, 47, 47, 55, 79, 87]\n",
      "홀수 평균 46.25\n",
      "짝수 리스트 [12, 18, 24, 44, 98]\n",
      "짝수 평균 39.2\n"
     ]
    }
   ],
   "source": [
    "arr4 = [18,44,87,35,15,24,79,12,55,47,47,98,5]\n",
    "홀수 = []\n",
    "짝수 = []\n",
    "\n",
    "for n in arr4:\n",
    "    if n % 2 == 0:\n",
    "        짝수.append(n)\n",
    "    else:\n",
    "        홀수.append(n)\n",
    "def 오름차순정렬(리스트):\n",
    "    for i in range(len(리스트)):\n",
    "        for j in range(i + 1, len(리스트)):\n",
    "            if 리스트[i] > 리스트[j]:\n",
    "                리스트[i], 리스트[j] = 리스트[j], 리스트[i]\n",
    "                \n",
    "오름차순정렬(홀수)\n",
    "오름차순정렬(짝수)\n",
    "\n",
    "홀수평균 = sum(홀수) / len(홀수)\n",
    "짝수평균 = sum(짝수) / len(짝수)\n",
    "\n",
    "print (\"홀수 리스트\", 홀수)\n",
    "print (\"홀수 평균\", 홀수평균)\n",
    "print (\"짝수 리스트\", 짝수)\n",
    "print (\"짝수 평균\", 짝수평균)\n"
   ]
  },
  {
   "cell_type": "code",
   "execution_count": 44,
   "id": "ae80e3db",
   "metadata": {},
   "outputs": [
    {
     "name": "stdout",
     "output_type": "stream",
     "text": [
      "평균 점수: 83.4\n",
      "최고 점수: 93 이름: B\n",
      "최저 점수: 75 이름: C\n"
     ]
    }
   ],
   "source": [
    "arr5 = [\n",
    "    [\"A\", 79],\n",
    "    [\"B\", 93],\n",
    "    [\"C\", 75],\n",
    "    [\"D\", 89],\n",
    "    [\"E\", 81],\n",
    "]\n",
    "\n",
    "총합 = 0\n",
    "갯수 = 0\n",
    "for i in arr5:\n",
    "    총합 += i[1]\n",
    "    갯수 += 1\n",
    "평균 = 총합 / 갯수\n",
    "\n",
    "최고점수 = 0\n",
    "최고학생 = \"\"\n",
    "\n",
    "for i in arr5:\n",
    "    if i[1] > 최고점수:\n",
    "        최고점수 = i[1]\n",
    "        최고학생 = i[0]\n",
    "\n",
    "최저점수 = 100 \n",
    "최저학생 = \"\"\n",
    "\n",
    "for i in arr5:\n",
    "    if i[1] < 최저점수:\n",
    "        최저점수 = i[1]\n",
    "        최저학생 = i[0]\n",
    "        \n",
    "print(\"평균 점수:\", 평균)\n",
    "print(\"최고 점수:\", 최고점수, \"이름:\", 최고학생)\n",
    "print(\"최저 점수:\", 최저점수, \"이름:\", 최저학생)"
   ]
  }
 ],
 "metadata": {
  "kernelspec": {
   "display_name": "Python 3",
   "language": "python",
   "name": "python3"
  },
  "language_info": {
   "codemirror_mode": {
    "name": "ipython",
    "version": 3
   },
   "file_extension": ".py",
   "mimetype": "text/x-python",
   "name": "python",
   "nbconvert_exporter": "python",
   "pygments_lexer": "ipython3",
   "version": "3.13.5"
  }
 },
 "nbformat": 4,
 "nbformat_minor": 5
}
