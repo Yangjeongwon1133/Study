{
 "cells": [
  {
   "cell_type": "code",
   "execution_count": null,
   "id": "879f0934",
   "metadata": {},
   "outputs": [],
   "source": [
    "#1번 문제\n",
    "\n",
    "numbers = []\n",
    "\n",
    "print(\"정수 10개를 입력하세요\")\n",
    "for i in range(10):\n",
    "    num = int(input())\n",
    "    numbers.append(num)\n",
    "\n",
    "over_50 = []\n",
    "for n in numbers:\n",
    "    if n > 50:\n",
    "        over_50.append(n)\n",
    "\n",
    "print(\"50보다 큰 수:\", over_50)"
   ]
  },
  {
   "cell_type": "code",
   "execution_count": null,
   "id": "e49be1ab",
   "metadata": {},
   "outputs": [],
   "source": [
    "#2번 문제\n",
    "\n",
    "id = input(\"ID를 입력하세요: \")\n",
    "pw = input(\"비밀번호를 입력하세요: \")\n",
    "\n",
    "if id == \"pyson-user1\" and pw == \"pysonissodifficult1234!\":\n",
    "    print(\"로그인 성공!\")\n",
    "else:\n",
    "    print(\"ID 또는 비밀번호가 틀렸습니다.\")"
   ]
  },
  {
   "cell_type": "code",
   "execution_count": null,
   "id": "fdf023fc",
   "metadata": {},
   "outputs": [],
   "source": [
    "#3번 문제\n",
    "\n",
    "a = 10\n",
    "while a >= 1:\n",
    "    print(a)\n",
    "    a -= 1\n",
    "print(\"발사!\")"
   ]
  },
  {
   "cell_type": "code",
   "execution_count": null,
   "id": "8524e9c7",
   "metadata": {},
   "outputs": [],
   "source": [
    "#4번 문제\n",
    "\n",
    "n = int(input(\"정수를 입력하세요: \"))\n",
    "\n",
    "for i in range(n):\n",
    "    for j in range(n):\n",
    "        # 가장자리면 별 출력\n",
    "        if i == 0 or i == n-1 or j == 0 or j == n-1:\n",
    "            print(\"*\", end=\"\")\n",
    "        else:\n",
    "            print(\" \", end=\"\")\n",
    "    print()"
   ]
  },
  {
   "cell_type": "code",
   "execution_count": null,
   "id": "25175477",
   "metadata": {},
   "outputs": [],
   "source": [
    "#5번 문제\n",
    "print(\"🎯 숫자 맞추기 게임 (2인용 버전)\")\n",
    "print(\"한 사람이 숫자를 정하고, 다른 사람이 맞춰보세요!\")\n",
    "print(\"숫자를 정한 사람은 다른 사람이 보지 않을 때 입력하세요.\")\n",
    "\n",
    "answer = input(\"정답 숫자를 입력하세요 (1~100): \")\n",
    "\n",
    "tries = 0\n",
    "\n",
    "while True:\n",
    "    변수 = input(\"숫자를 맞춰보세요: \")\n",
    "\n",
    "    tries = tries + 1\n",
    "\n",
    "    if 변수 < answer:\n",
    "        print(\"너무 작아요! 🔽\")\n",
    "\n",
    "    elif 변수 > answer:\n",
    "        print(\"너무 커요! 🔼\")\n",
    "\n",
    "    else:\n",
    "        print(\"정답입니다! 🎉\")\n",
    "        print(\"시도한 횟수:\", tries)\n",
    "        break"
   ]
  },
  {
   "cell_type": "code",
   "execution_count": null,
   "id": "3f1f529d",
   "metadata": {},
   "outputs": [],
   "source": [
    "#6번 문제\n",
    "\n",
    "size = 8\n",
    "\n",
    "for i in range(size):\n",
    "    # size만큼 칸을 반복\n",
    "    for j in range(size):\n",
    "        # (줄 번호 + 칸 번호)가 짝수이면 'O' 출력\n",
    "        if (i + j) % 2 == 0:\n",
    "            print('O', end='')\n",
    "        else:\n",
    "            print('X', end='')\n",
    "    print()"
   ]
  },
  {
   "cell_type": "code",
   "execution_count": null,
   "id": "27ac2ff9",
   "metadata": {},
   "outputs": [],
   "source": [
    "#7번 문제\n",
    "\n",
    "print(\"🎬 영화 추천 프로그램에 오신 걸 환영합니다!\")\n",
    "print(\"원하는 영화 장르를 입력하면 추천해드릴게요.\")\n",
    "print(\"예: 액션, 로맨스, 코미디, 공포\")\n",
    "\n",
    "장르 = input(\"어떤 장르의 영화를 보고 싶으신가요? \")\n",
    "\n",
    "if 장르 == \"액션\":\n",
    "    print(\"💥 추천 영화: '존 윅' 또는 '매드맥스: 분노의 도로'\")\n",
    "elif 장르 == \"로맨스\":\n",
    "    print(\"💖 추천 영화: '노트북' 또는 '이터널 선샤인'\")\n",
    "elif 장르 == \"코미디\":\n",
    "    print(\"😂 추천 영화: '극한직업' 또는 '기생충'\")\n",
    "elif 장르 == \"공포\":\n",
    "    print(\"👻 추천 영화: '겟 아웃' 또는 '컨저링'\")\n",
    "else:\n",
    "    print(\"죄송해요, 해당 장르는 아직 준비 중이에요!\")"
   ]
  },
  {
   "cell_type": "code",
   "execution_count": null,
   "id": "8f4c3d59",
   "metadata": {},
   "outputs": [],
   "source": [
    "#8번 문제\n",
    "\n",
    "size = 9\n",
    "center = size // 2\n",
    "\n",
    "for i in range(size):\n",
    "    # size만큼 칸을 반복\n",
    "    for j in range(size):\n",
    "        # 중심으로부터의 가로, 세로 거리의 합이 center와 같은지 확인\n",
    "        if abs(i - center) + abs(j - center) == center:\n",
    "            print('O', end='')\n",
    "        else:\n",
    "            print('X', end='')\n",
    "    print()"
   ]
  },
  {
   "cell_type": "code",
   "execution_count": null,
   "id": "3eac8a21",
   "metadata": {},
   "outputs": [],
   "source": [
    "#9번 문제\n",
    "\n",
    "def shopping_list_manager():\n",
    "    \"\"\"사용자 입력을 받아 쇼핑 리스트를 만들고 출력하는 함수\"\"\"\n",
    "    shopping_list = []\n",
    "    print(\"쇼핑 리스트 프로그램을 시작합니다.\")\n",
    "\n",
    "    while True:\n",
    "        item = input(\"쇼핑 리스트에 추가할 물건을 입력하세요 (종료하려면 '끝' 입력): \")\n",
    "        if item == '끝':\n",
    "            break  # '끝'을 입력하면 반복문 종료\n",
    "        else:\n",
    "            shopping_list.append(item)\n",
    "            print(f\"'{item}'이(가) 추가되었습니다.\")\n",
    "\n",
    "    print(\"\\n--- 쇼핑 리스트 ---\")\n",
    "    if not shopping_list: # 리스트가 비어있는지 확인\n",
    "        print(\"쇼핑 리스트가 비어있습니다.\")\n",
    "    else:\n",
    "        for index, item in enumerate(shopping_list):\n",
    "            print(f\"{index + 1}. {item}\")\n",
    "\n",
    "shopping_list_manager()"
   ]
  },
  {
   "cell_type": "code",
   "execution_count": null,
   "id": "1a03b5d4",
   "metadata": {},
   "outputs": [],
   "source": [
    "#10번 문제\n",
    "\n",
    "size = 7 \n",
    "center = size // 2\n",
    "for y in range(size):\n",
    "    row = ''\n",
    "    for x in range(size):\n",
    "        layer = max(abs(x - center), abs(y - center))\n",
    "        if layer % 2 == 0:\n",
    "            row += 'X'\n",
    "        else:\n",
    "            row += 'O'\n",
    "    print(row) "
   ]
  }
 ],
 "metadata": {
  "kernelspec": {
   "display_name": "Python 3",
   "language": "python",
   "name": "python3"
  },
  "language_info": {
   "codemirror_mode": {
    "name": "ipython",
    "version": 3
   },
   "file_extension": ".py",
   "mimetype": "text/x-python",
   "name": "python",
   "nbconvert_exporter": "python",
   "pygments_lexer": "ipython3",
   "version": "3.13.5"
  }
 },
 "nbformat": 4,
 "nbformat_minor": 5
}
