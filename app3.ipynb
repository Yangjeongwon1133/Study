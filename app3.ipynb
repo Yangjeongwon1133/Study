{
 "cells": [
  {
   "cell_type": "code",
   "execution_count": 8,
   "id": "d29b179b",
   "metadata": {},
   "outputs": [
    {
     "name": "stdout",
     "output_type": "stream",
     "text": [
      "Hello World Python is fun Life is too short, You need\n",
      "Python Life is too short,\n",
      "You need Python\n"
     ]
    }
   ],
   "source": [
    "a = \"Hello World\"\n",
    "b = 'Python is fun'\n",
    "c = \"\"\"Life is too short, You need\n",
    "Python\"\"\"\n",
    "d = '''Life is too short,\n",
    "You need Python'''\n",
    "print(a, b, c, d)"
   ]
  },
  {
   "cell_type": "code",
   "execution_count": 9,
   "id": "ae1643b5",
   "metadata": {},
   "outputs": [
    {
     "name": "stdout",
     "output_type": "stream",
     "text": [
      "\"Python\" is fun\n"
     ]
    }
   ],
   "source": [
    "a ='\"Python\" is fun'\n",
    "print(a)"
   ]
  },
  {
   "cell_type": "code",
   "execution_count": 10,
   "id": "c69aed12",
   "metadata": {},
   "outputs": [
    {
     "name": "stdout",
     "output_type": "stream",
     "text": [
      "100\n"
     ]
    }
   ],
   "source": [
    "'''\n",
    "1. a 변수에 정수의 값을 넣기\n",
    "2. a변수를 콘솔에 값을 출력하기\n",
    "'''\n",
    "a = 100\n",
    "print(a)"
   ]
  },
  {
   "cell_type": "code",
   "execution_count": 11,
   "id": "7ce80b05",
   "metadata": {},
   "outputs": [
    {
     "name": "stdout",
     "output_type": "stream",
     "text": [
      "Life is too short, \n",
      " You need \t Python\n"
     ]
    }
   ],
   "source": [
    "a = 'Life is too short, \\n You need \\t Python'\n",
    "print(a)\n"
   ]
  },
  {
   "cell_type": "code",
   "execution_count": 13,
   "id": "b3f7e02e",
   "metadata": {},
   "outputs": [
    {
     "name": "stdout",
     "output_type": "stream",
     "text": [
      "Life is too short, You need Python\n",
      "Life is too short, You need Python\n",
      "Life is too short, You need Python\n",
      "\n"
     ]
    }
   ],
   "source": [
    "a = 'Life is too short, You need Python'\n",
    "print((a + '\\n') *3)"
   ]
  },
  {
   "cell_type": "code",
   "execution_count": 20,
   "id": "aaab1dff",
   "metadata": {},
   "outputs": [
    {
     "name": "stdout",
     "output_type": "stream",
     "text": [
      "too\n"
     ]
    }
   ],
   "source": [
    "a =\"Life is too short, You need Python\"\n",
    "print(a[8]+a[9]+a[10])"
   ]
  },
  {
   "cell_type": "code",
   "execution_count": null,
   "id": "2402a51d",
   "metadata": {},
   "outputs": [
    {
     "name": "stdout",
     "output_type": "stream",
     "text": [
      "too\n"
     ]
    }
   ],
   "source": [
    "a =\"Life is too short, You need Python\"\n",
    "print(a[8:11])"
   ]
  },
  {
   "cell_type": "code",
   "execution_count": 24,
   "id": "4f9605d3",
   "metadata": {},
   "outputs": [
    {
     "name": "stdout",
     "output_type": "stream",
     "text": [
      "n\n"
     ]
    }
   ],
   "source": [
    "a =\"Life is too short, You need Python\"\n",
    "print(a[-1])"
   ]
  },
  {
   "cell_type": "code",
   "execution_count": 37,
   "id": "886a788c",
   "metadata": {},
   "outputs": [
    {
     "name": "stdout",
     "output_type": "stream",
     "text": [
      " Python\n"
     ]
    }
   ],
   "source": [
    "a =\"Life is too short, You need Python\"\n",
    "print(a[-7:])"
   ]
  },
  {
   "cell_type": "code",
   "execution_count": 38,
   "id": "81458464",
   "metadata": {},
   "outputs": [
    {
     "name": "stdout",
     "output_type": "stream",
     "text": [
      "Life\n"
     ]
    }
   ],
   "source": [
    "a =\"Life is too short, You need Python\"\n",
    "print(a[:4])"
   ]
  },
  {
   "cell_type": "code",
   "execution_count": 39,
   "id": "e3a5d41d",
   "metadata": {},
   "outputs": [
    {
     "name": "stdout",
     "output_type": "stream",
     "text": [
      "34\n"
     ]
    }
   ],
   "source": [
    "a =\"Life is too short, You need Python\"\n",
    "print(len(a))"
   ]
  },
  {
   "cell_type": "code",
   "execution_count": 40,
   "id": "e905d01c",
   "metadata": {},
   "outputs": [
    {
     "name": "stdout",
     "output_type": "stream",
     "text": [
      " Python\n"
     ]
    }
   ],
   "source": [
    "a =\"Life is too short, You need Python\"\n",
    "print(a[-7:len(a)])"
   ]
  },
  {
   "cell_type": "code",
   "execution_count": 42,
   "id": "94812cf4",
   "metadata": {},
   "outputs": [
    {
     "name": "stdout",
     "output_type": "stream",
     "text": [
      "<class 'str'>\n",
      "<class 'int'>\n"
     ]
    }
   ],
   "source": [
    "a =\"Life is too short, You need Python\"\n",
    "print(type(a))\n",
    "print(type(10))"
   ]
  }
 ],
 "metadata": {
  "kernelspec": {
   "display_name": "Python 3",
   "language": "python",
   "name": "python3"
  },
  "language_info": {
   "codemirror_mode": {
    "name": "ipython",
    "version": 3
   },
   "file_extension": ".py",
   "mimetype": "text/x-python",
   "name": "python",
   "nbconvert_exporter": "python",
   "pygments_lexer": "ipython3",
   "version": "3.13.5"
  }
 },
 "nbformat": 4,
 "nbformat_minor": 5
}
