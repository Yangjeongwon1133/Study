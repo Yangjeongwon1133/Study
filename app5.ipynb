{
 "cells": [
  {
   "cell_type": "code",
   "execution_count": 2,
   "id": "fa86ae60",
   "metadata": {},
   "outputs": [
    {
     "name": "stdout",
     "output_type": "stream",
     "text": [
      "음료수를 구매 할 수 있는 자판기 입니다.\n"
     ]
    }
   ],
   "source": [
    "print(\"음료수를 구매 할 수 있는 자판기 입니다.\")\n"
   ]
  },
  {
   "cell_type": "code",
   "execution_count": 3,
   "id": "a144060d",
   "metadata": {},
   "outputs": [
    {
     "name": "stdout",
     "output_type": "stream",
     "text": [
      "콜라\n",
      "500원\n",
      "2개를 선택하셨습니다.\n"
     ]
    }
   ],
   "source": [
    "음료 = input(\"콜라, 사이다, 맥콜 중 하나의 음료수를 입력하세요\")\n",
    "print(음료)\n",
    "금액 = 0\n",
    "if 음료 == '콜라':\n",
    "    금액 = 500\n",
    "if 음료 == '사이다':\n",
    "    금액 = 450\n",
    "if 음료 == '맥콜':\n",
    "    금액 = 300\n",
    "print(f'{금액}원')\n",
    "\n",
    "수량 = input(\"선택하신 음료의 수량을 입력하세요\")\n",
    "수량 = int(수량)\n",
    "print(f'{수량}개를 선택하셨습니다.')"
   ]
  },
  {
   "cell_type": "code",
   "execution_count": 15,
   "id": "54b33e57",
   "metadata": {},
   "outputs": [
    {
     "name": "stdout",
     "output_type": "stream",
     "text": [
      "사이다 5개 금액은 2250원 입니다.\n"
     ]
    }
   ],
   "source": [
    "print(f'{음료} {수량}개 금액은 {금액 * 수량}원 입니다.')"
   ]
  },
  {
   "cell_type": "code",
   "execution_count": 16,
   "id": "ce076025",
   "metadata": {},
   "outputs": [
    {
     "name": "stdout",
     "output_type": "stream",
     "text": [
      "2000원을 받고 -250원 거스름돈을 받으세요.\n",
      "감사합니다.\n"
     ]
    }
   ],
   "source": [
    "돈 = input(\"선택하신 음료를 구매하기 위해서 금액을 입력하세요\")\n",
    "돈 =(int(돈))\n",
    "print(f'{돈}원을 받고 {돈 - (금액 * 수량)}원 거스름돈을 받으세요.')\n",
    "print(\"감사합니다.\")"
   ]
  },
  {
   "cell_type": "code",
   "execution_count": null,
   "id": "0d92c29d",
   "metadata": {},
   "outputs": [
    {
     "name": "stdout",
     "output_type": "stream",
     "text": [
      "음료수를 구매 할 수 있는 자판기 입니다.\n",
      "선택하신 음료는 콜라입니다. 500원\n",
      "콜라 2개의 금액은 1000입니다.\n",
      "2000원을 받고 1000원 거스름돈을 받으세요\n",
      "선택하신 음료는 콜라입니다. 500원\n",
      "콜라 2개의 금액은 1000입니다.\n",
      "1000원을 받고 0원 거스름돈을 받으세요\n",
      "감사합니다.\n"
     ]
    }
   ],
   "source": [
    "\n",
    "print(\"음료수를 구매 할 수 있는 자판기 입니다.\")\n",
    "\n",
    "선택한음료 = input(\"콜라, 사이다, 맥콜 중 하나를 주문하세요.\")\n",
    "금액 = 0\n",
    "while 선택한음료:\n",
    "    if 선택한음료 == '콜라':\n",
    "        print('선택하신 음료는 콜라입니다. 500원')\n",
    "        금액 = 500\n",
    "    elif 선택한음료 == '사이다':\n",
    "        print('선택하신 음료는 사이다입니다. 450원')\n",
    "        금액 = 450\n",
    "    elif 선택한음료 == '맥콜':\n",
    "        print('선택하신 음료는 맥콜입니다. 300원')\n",
    "        금액 = 300\n",
    "\n",
    "    수량 = int(input(\"수량을 입력하세요.\"))\n",
    "    print(f'{선택한음료} {수량}개의 금액은 {금액 * 수량}입니다.')\n",
    "    지불한금액 = int(input(\"지불할 금액을 알려주세요.\"))\n",
    "    print(f'{지불한금액}원을 받고 {지불한금액-(금액*수량)}원 거스름돈을 받으세요')\n",
    "\n",
    "    선택한음료 = input(\"다른 음료를 주문하시겠습니까? (종료하려면 Enter키를 누르세요.)\")\n",
    "\n",
    "print(\"감사합니다.\") \n"
   ]
  }
 ],
 "metadata": {
  "kernelspec": {
   "display_name": "Python 3",
   "language": "python",
   "name": "python3"
  },
  "language_info": {
   "codemirror_mode": {
    "name": "ipython",
    "version": 3
   },
   "file_extension": ".py",
   "mimetype": "text/x-python",
   "name": "python",
   "nbconvert_exporter": "python",
   "pygments_lexer": "ipython3",
   "version": "3.13.5"
  }
 },
 "nbformat": 4,
 "nbformat_minor": 5
}
