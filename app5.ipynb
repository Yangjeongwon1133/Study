{
 "cells": [
  {
   "cell_type": "code",
   "execution_count": 1,
   "id": "fa86ae60",
   "metadata": {},
   "outputs": [
    {
     "name": "stdout",
     "output_type": "stream",
     "text": [
      "음료수를 구매 할 수 있는 자판기 입니다.\n"
     ]
    }
   ],
   "source": [
    "print(\"음료수를 구매 할 수 있는 자판기 입니다.\")\n"
   ]
  },
  {
   "cell_type": "code",
   "execution_count": 7,
   "id": "a144060d",
   "metadata": {},
   "outputs": [
    {
     "name": "stdout",
     "output_type": "stream",
     "text": [
      "콜라\n",
      "500원\n"
     ]
    }
   ],
   "source": [
    "음료 = input(\"콜라, 사이다, 맥콜 중 하나의 음료수를 입력하세요\")\n",
    "print(음료)\n",
    "금액 = 0\n",
    "if 음료 == '콜라':\n",
    "    금액 = 500\n",
    "if 음료 == '사이다':\n",
    "    금액 = 450\n",
    "if 음료 == '맥콜':\n",
    "    금액 = 300\n",
    "print(f'{금액}원')\n",
    "\n",
    "수량 = input(\"선택하신 음료의 수량을 입력하세요\")\n",
    "수량 = int(수량)"
   ]
  },
  {
   "cell_type": "code",
   "execution_count": 10,
   "id": "54b33e57",
   "metadata": {},
   "outputs": [
    {
     "name": "stdout",
     "output_type": "stream",
     "text": [
      "콜라 2개 금액은 1000원 입니다.\n"
     ]
    }
   ],
   "source": [
    "print(f'{음료} {수량}개 금액은 {금액 * 수량}원 입니다.')"
   ]
  },
  {
   "cell_type": "code",
   "execution_count": 11,
   "id": "ce076025",
   "metadata": {},
   "outputs": [
    {
     "name": "stdout",
     "output_type": "stream",
     "text": [
      "2000원을 받고 1000원 거스름돈을 받으세요.\n",
      "감사합니다.\n"
     ]
    }
   ],
   "source": [
    "돈 = input(\"선택하신 음료를 구매하기 위해서 금액을 입력하세요\")\n",
    "돈 =(int(돈))\n",
    "print(f'{돈}원을 받고 {돈 - (금액 * 수량)}원 거스름돈을 받으세요.')\n",
    "print(\"감사합니다.\")"
   ]
  }
 ],
 "metadata": {
  "kernelspec": {
   "display_name": "Python 3",
   "language": "python",
   "name": "python3"
  },
  "language_info": {
   "codemirror_mode": {
    "name": "ipython",
    "version": 3
   },
   "file_extension": ".py",
   "mimetype": "text/x-python",
   "name": "python",
   "nbconvert_exporter": "python",
   "pygments_lexer": "ipython3",
   "version": "3.13.5"
  }
 },
 "nbformat": 4,
 "nbformat_minor": 5
}
