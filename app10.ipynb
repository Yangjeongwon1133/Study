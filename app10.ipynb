{
 "cells": [
  {
   "cell_type": "code",
   "execution_count": 5,
   "id": "9e2222f2",
   "metadata": {},
   "outputs": [],
   "source": [
    "문1 = [\n",
    "    [True,  False,  False,  False,  False],\n",
    "    [True,  True,   False,  False,  False],\n",
    "    [True,  True,   True,   False,  False],\n",
    "    [True,  True,   True,   True,   False],\n",
    "    [True,  True,   True,   True,   True]\n",
    "    ]\n",
    "문2 = [\n",
    "    [True,  True,   True,   True,   True],\n",
    "    [True,  True,   True,   True,   False],\n",
    "    [True,  True,   True,   False,  False],\n",
    "    [True,  True,   False,  False,  False],\n",
    "    [True,  False,  False,  False,  False]\n",
    "    ]\n",
    "문3 = [\n",
    "    [False, False,  False,  False,  True],\n",
    "    [False, False,  False,  True,   True],\n",
    "    [False, False,  True,   True,   True],\n",
    "    [False, True,   True,   True,   True],\n",
    "    [True,  True,   True,   True,   True]\n",
    "    ]\n",
    "문4 = [\n",
    "    [True,  True,   True,   True,   True],\n",
    "    [False, True,   True,   True,   True],\n",
    "    [False, False,  True,   True,   True],\n",
    "    [False, False,  False,  True,   True],\n",
    "    [False, False,  False,  False,  True]\n",
    "    ]"
   ]
  },
  {
   "cell_type": "code",
   "execution_count": 3,
   "id": "668ecd7d",
   "metadata": {},
   "outputs": [],
   "source": [
    "def 실행기(리스트):\n",
    "    for y in 리스트:\n",
    "        행 = ''\n",
    "        for x in y:\n",
    "            행 += '0' if x else 'x'\n",
    "        print(행)"
   ]
  },
  {
   "cell_type": "code",
   "execution_count": 6,
   "id": "04013f38",
   "metadata": {},
   "outputs": [
    {
     "name": "stdout",
     "output_type": "stream",
     "text": [
      "0xxxx\n",
      "00xxx\n",
      "000xx\n",
      "0000x\n",
      "00000\n"
     ]
    }
   ],
   "source": [
    "실행기(문1)"
   ]
  },
  {
   "cell_type": "code",
   "execution_count": 7,
   "id": "a929c986",
   "metadata": {},
   "outputs": [
    {
     "name": "stdout",
     "output_type": "stream",
     "text": [
      "00000\n",
      "0000x\n",
      "000xx\n",
      "00xxx\n",
      "0xxxx\n"
     ]
    }
   ],
   "source": [
    "실행기(문2)"
   ]
  },
  {
   "cell_type": "code",
   "execution_count": 8,
   "id": "d0e7fb41",
   "metadata": {},
   "outputs": [
    {
     "name": "stdout",
     "output_type": "stream",
     "text": [
      "xxxx0\n",
      "xxx00\n",
      "xx000\n",
      "x0000\n",
      "00000\n"
     ]
    }
   ],
   "source": [
    "실행기(문3)"
   ]
  },
  {
   "cell_type": "code",
   "execution_count": 9,
   "id": "ff3eb5f5",
   "metadata": {},
   "outputs": [
    {
     "name": "stdout",
     "output_type": "stream",
     "text": [
      "00000\n",
      "x0000\n",
      "xx000\n",
      "xxx00\n",
      "xxxx0\n"
     ]
    }
   ],
   "source": [
    "실행기(문4)"
   ]
  },
  {
   "cell_type": "code",
   "execution_count": 10,
   "id": "7c0a6fcd",
   "metadata": {},
   "outputs": [],
   "source": [
    "문5 = [\n",
    "    [False, False,  False,  False,  True,   False,  False,  False,  False],\n",
    "    [False, False,  False,  True,   True,   True,   False,  False,  False],\n",
    "    [False, False,  True,   True,   True,   True,   True,   False,  False],\n",
    "    [False, True,   True,   True,   True,   True,   True,   True,   False],\n",
    "    [True,  True,   True,   True,   True,   True,   True,   True,   True],\n",
    "    [False, True,   True,   True,   True,   True,   True,   True,   False],\n",
    "    [False, False,  True,   True,   True,   True,   True,   False,  False],\n",
    "    [False, False,  False,  True,   True,   True,   False,  False,  False],\n",
    "    [False, False,  False,  False,  True,   False,  False,  False,  False]\n",
    "    ]"
   ]
  },
  {
   "cell_type": "code",
   "execution_count": 11,
   "id": "81c90c07",
   "metadata": {},
   "outputs": [
    {
     "name": "stdout",
     "output_type": "stream",
     "text": [
      "xxxx0xxxx\n",
      "xxx000xxx\n",
      "xx00000xx\n",
      "x0000000x\n",
      "000000000\n",
      "x0000000x\n",
      "xx00000xx\n",
      "xxx000xxx\n",
      "xxxx0xxxx\n"
     ]
    }
   ],
   "source": [
    "\n",
    "실행기(문5)"
   ]
  },
  {
   "cell_type": "code",
   "execution_count": 1,
   "id": "7d07fd63",
   "metadata": {},
   "outputs": [
    {
     "name": "stdout",
     "output_type": "stream",
     "text": [
      "🎯 숫자 맞추기 게임 (2인용 버전)\n",
      "한 사람이 숫자를 정하고, 다른 사람이 맞춰보세요!\n",
      "숫자를 정한 사람은 다른 사람이 보지 않을 때 입력하세요.\n",
      "너무 커요! 🔼\n",
      "너무 커요! 🔼\n",
      "너무 작아요! 🔽\n",
      "정답입니다! 🎉\n",
      "시도한 횟수: 4\n"
     ]
    }
   ],
   "source": [
    "print(\"🎯 숫자 맞추기 게임 (2인용 버전)\")\n",
    "print(\"한 사람이 숫자를 정하고, 다른 사람이 맞춰보세요!\")\n",
    "print(\"숫자를 정한 사람은 다른 사람이 보지 않을 때 입력하세요.\")\n",
    "\n",
    "answer = input(\"정답 숫자를 입력하세요 (1~100): \")\n",
    "\n",
    "tries = 0\n",
    "\n",
    "while True:\n",
    "    변수 = input(\"숫자를 맞춰보세요: \")\n",
    "\n",
    "    tries = tries + 1\n",
    "\n",
    "    if 변수 < answer:\n",
    "        print(\"너무 작아요! 🔽\")\n",
    "\n",
    "    elif 변수 > answer:\n",
    "        print(\"너무 커요! 🔼\")\n",
    "\n",
    "    else:\n",
    "        print(\"정답입니다! 🎉\")\n",
    "        print(\"시도한 횟수:\", tries)\n",
    "        break\n"
   ]
  },
  {
   "cell_type": "code",
   "execution_count": 4,
   "id": "581909e3",
   "metadata": {},
   "outputs": [
    {
     "name": "stdout",
     "output_type": "stream",
     "text": [
      "🎬 영화 추천 프로그램에 오신 걸 환영합니다!\n",
      "원하는 영화 장르를 입력하면 추천해드릴게요.\n",
      "예: 액션, 로맨스, 코미디, 공포\n",
      "💥 추천 영화: '존 윅' 또는 '매드맥스: 분노의 도로'\n"
     ]
    }
   ],
   "source": [
    "print(\"🎬 영화 추천 프로그램에 오신 걸 환영합니다!\")\n",
    "print(\"원하는 영화 장르를 입력하면 추천해드릴게요.\")\n",
    "print(\"예: 액션, 로맨스, 코미디, 공포\")\n",
    "\n",
    "장르 = input(\"어떤 장르의 영화를 보고 싶으신가요? \")\n",
    "\n",
    "if 장르 == \"액션\":\n",
    "    print(\"💥 추천 영화: '존 윅' 또는 '매드맥스: 분노의 도로'\")\n",
    "elif 장르 == \"로맨스\":\n",
    "    print(\"💖 추천 영화: '노트북' 또는 '이터널 선샤인'\")\n",
    "elif 장르 == \"코미디\":\n",
    "    print(\"😂 추천 영화: '극한직업' 또는 '기생충'\")\n",
    "elif 장르 == \"공포\":\n",
    "    print(\"👻 추천 영화: '겟 아웃' 또는 '컨저링'\")\n",
    "else:\n",
    "    print(\"죄송해요, 해당 장르는 아직 준비 중이에요!\")"
   ]
  },
  {
   "cell_type": "code",
   "execution_count": null,
   "id": "34e4d70c",
   "metadata": {},
   "outputs": [
    {
     "name": "stdout",
     "output_type": "stream",
     "text": [
      "출력 : range(0, 9)\n"
     ]
    },
    {
     "ename": "NameError",
     "evalue": "name '결과' is not defined",
     "output_type": "error",
     "traceback": [
      "\u001b[31m---------------------------------------------------------------------------\u001b[39m",
      "\u001b[31mNameError\u001b[39m                                 Traceback (most recent call last)",
      "\u001b[36mCell\u001b[39m\u001b[36m \u001b[39m\u001b[32mIn[16]\u001b[39m\u001b[32m, line 16\u001b[39m\n\u001b[32m     11\u001b[39m 곱 = \u001b[38;5;28mrange\u001b[39m(\u001b[32m9\u001b[39m)\n\u001b[32m     14\u001b[39m \u001b[38;5;28mprint\u001b[39m(\u001b[33mf\u001b[39m\u001b[33m'\u001b[39m\u001b[33m출력 : \u001b[39m\u001b[38;5;132;01m{\u001b[39;00m입력\u001b[38;5;132;01m}\u001b[39;00m\u001b[33m'\u001b[39m)\n\u001b[32m---> \u001b[39m\u001b[32m16\u001b[39m \u001b[38;5;28;01mwhile\u001b[39;00m \u001b[43m결과\u001b[49m < 입력:\n\u001b[32m     17\u001b[39m     \u001b[38;5;28mprint\u001b[39m(\u001b[33mf\u001b[39m\u001b[33m\"\u001b[39m\u001b[38;5;132;01m{\u001b[39;00m입력\u001b[38;5;132;01m}\u001b[39;00m\u001b[33m * \u001b[39m\u001b[38;5;132;01m{\u001b[39;00m곱\u001b[38;5;132;01m}\u001b[39;00m\u001b[33m = \u001b[39m\u001b[38;5;132;01m{\u001b[39;00m입력\u001b[38;5;250m \u001b[39m*\u001b[38;5;250m \u001b[39m곱\u001b[38;5;132;01m}\u001b[39;00m\u001b[33m\"\u001b[39m)\n",
      "\u001b[31mNameError\u001b[39m: name '결과' is not defined"
     ]
    }
   ],
   "source": [
    "#문제 5.구구단 출력\n",
    "#사용자로부터 숫자 하나를 입력받아 해당 단의 구구단을 출력하세요.\n",
    "#출력 예시) 3단 3 x 1 = 3\n",
    "#3 x 2 = 6\n",
    "#...\n",
    "#3 x 9 = 27\n",
    "\n",
    "입력 = input(\"구구단을 출력할 수를 입력하세요\")\n",
    "\n",
    "입력 = range(9)\n",
    "곱 = range(9)\n",
    "\n",
    "\n",
    "\n",
    "while 입력 < 곱:\n",
    "    print(f'출력 : {입력}')\n",
    "        \n",
    "    곱 = 1\n",
    "    while 결과 < 입력:\n",
    "        print(f\"{입력} * {곱} = {입력 * }\")\n",
    "            \n",
    "\n",
    "\n"
   ]
  }
 ],
 "metadata": {
  "kernelspec": {
   "display_name": "Python 3",
   "language": "python",
   "name": "python3"
  },
  "language_info": {
   "codemirror_mode": {
    "name": "ipython",
    "version": 3
   },
   "file_extension": ".py",
   "mimetype": "text/x-python",
   "name": "python",
   "nbconvert_exporter": "python",
   "pygments_lexer": "ipython3",
   "version": "3.13.5"
  }
 },
 "nbformat": 4,
 "nbformat_minor": 5
}
